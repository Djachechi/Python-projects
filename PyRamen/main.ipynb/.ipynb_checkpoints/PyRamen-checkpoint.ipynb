{
 "cells": [
  {
   "cell_type": "code",
   "execution_count": null,
   "id": "8548c1d8-0c98-42ad-872a-d8b716c52f74",
   "metadata": {},
   "outputs": [],
   "source": [
    "    ##Samirah Djachechi##\n",
    "##PyRamen Analysis##"
   ]
  },
  {
   "cell_type": "code",
   "execution_count": null,
   "id": "93759468-43f3-4b33-8e83-db25dcef71e1",
   "metadata": {},
   "outputs": [],
   "source": [
    "import csv\n",
    "from pathlib import Path"
   ]
  },
  {
   "cell_type": "code",
   "execution_count": null,
   "id": "9665e6ec-720d-4aa3-b13d-301f544d7260",
   "metadata": {},
   "outputs": [],
   "source": [
    "menu_filepath = Path(\"menu_data.csv\")\n",
    "sales_filepath = Path(\"sales_data.csv\")"
   ]
  },
  {
   "cell_type": "code",
   "execution_count": null,
   "id": "237eac8b-7545-48fb-bc96-32e3770d1c06",
   "metadata": {},
   "outputs": [],
   "source": [
    "menu = []\n",
    "sales = []"
   ]
  },
  {
   "cell_type": "code",
   "execution_count": null,
   "id": "94a7412c-51b4-4f14-90d8-797dc5052dbc",
   "metadata": {},
   "outputs": [],
   "source": [
    "\n",
    "\n",
    "with open(menu_filepath) as menu_data:\n",
    "    reader = csv.reader(menu_data)\n",
    "    next(reader)\n",
    "    for row in reader:\n",
    "            menu.append(row)\n",
    "            \n",
    "with open(sales_filepath) as sales_data:\n",
    "    reader = csv.reader(sales_data)\n",
    "    next(reader)\n",
    "    for row in reader:\n",
    "           sales.append(row)    \n",
    "            \n",
    "            \n",
    "            \n",
    "report = {}\n",
    "row_count = 0\n",
    "  "
   ]
  },
  {
   "cell_type": "code",
   "execution_count": null,
   "id": "05ec9581-7de7-4806-8c4c-caf706e8a597",
   "metadata": {},
   "outputs": [],
   "source": [
    "for row in sales:\n",
    "    print(row)\n",
    "    sales_item = row[4]\n",
    "    quantity = int(row[3])\n",
    "\n",
    "    if sales_item not in report.keys():\n",
    "        report[sales_item] = {\n",
    "                \"count\":0, \n",
    "                \"revenue\": 0,\n",
    "                \"cost\": 0, \n",
    "                \"profit\": 0,\n",
    "            }\n",
    "\n",
    "    for record in menu:\n",
    "        item = record[0]\n",
    "        price = float(record[3])\n",
    "        cost = float(record[4])\n",
    "    \n",
    "        profit = price - cost\n",
    "    \n",
    "        if sales_item == item:\n",
    "            print(f\"Does {sales_item} equal {item}? WE HAVE A MATCH!!!\")\n",
    "            print(f\"   Item: {item}\")\n",
    "            print(f\"   Price: ${price}\")\n",
    "            print(f\"   Cost: ${cost}\")\n",
    "            print(f\"   Profit: ${profit}\")\n",
    "        \n",
    "            report[sales_item][\"count\"] += quantity\n",
    "            report[sales_item][\"revenue\"] += price * quantity\n",
    "            report[sales_item][\"cost\"] += cost * quantity\n",
    "            report[sales_item][\"profit\"] = profit * quantity\n",
    "        elif sales_item != item: \n",
    "            print(\"no\")\n",
    "        \n",
    "row_count +=1   "
   ]
  },
  {
   "cell_type": "code",
   "execution_count": null,
   "id": "45d64732-da77-49c5-9ece-1d8b0d88e2eb",
   "metadata": {},
   "outputs": [],
   "source": [
    "output_path = Path(\"PyRamen.txt\")"
   ]
  },
  {
   "cell_type": "code",
   "execution_count": null,
   "id": "84fe7133-b87b-4959-a31f-8136cbcdba60",
   "metadata": {},
   "outputs": [],
   "source": [
    "with open(output_path, 'w') as txt_file:\n",
    "    for key in report:\n",
    "        txt_file.write(f\"{key} {report[key]}.\\n\")\n"
   ]
  },
  {
   "cell_type": "code",
   "execution_count": null,
   "id": "f2eab1d5-1298-49c4-8bb1-e2f6c5111a69",
   "metadata": {},
   "outputs": [],
   "source": []
  }
 ],
 "metadata": {
  "kernelspec": {
   "display_name": "Python 3 (ipykernel)",
   "language": "python",
   "name": "python3"
  },
  "language_info": {
   "codemirror_mode": {
    "name": "ipython",
    "version": 3
   },
   "file_extension": ".py",
   "mimetype": "text/x-python",
   "name": "python",
   "nbconvert_exporter": "python",
   "pygments_lexer": "ipython3",
   "version": "3.9.6"
  }
 },
 "nbformat": 4,
 "nbformat_minor": 5
}
