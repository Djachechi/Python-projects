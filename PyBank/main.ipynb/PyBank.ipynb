{
 "cells": [
  {
   "cell_type": "code",
   "execution_count": 278,
   "id": "21e0d9e0-40d3-4d6b-a021-150709c8ecb5",
   "metadata": {},
   "outputs": [],
   "source": [
    "#Samirah Djachechi\n",
    "#PyBank Profit and Losses Analysis."
   ]
  },
  {
   "cell_type": "code",
   "execution_count": 279,
   "id": "8fbe6941-6a7d-4476-ad36-6d27c7d80f67",
   "metadata": {},
   "outputs": [],
   "source": [
    "#Import libraries\n",
    "import csv\n",
    "from pathlib import Path"
   ]
  },
  {
   "cell_type": "code",
   "execution_count": 280,
   "id": "89b1ff3f-5032-43ee-8894-cfdc15105972",
   "metadata": {},
   "outputs": [],
   "source": [
    "#Set the file path\n",
    "file_to_load = Path(\"budget_data.csv\")\n",
    "file_to_output = Path(\"PyBank_profit_and_losses_analysis.txt\")\n"
   ]
  },
  {
   "cell_type": "code",
   "execution_count": 281,
   "id": "242f3d0f-3ad1-4664-a184-0943abd12300",
   "metadata": {},
   "outputs": [],
   "source": [
    "#Set the variables\n",
    "total_months = 0\n",
    "net_amt_change = []\n",
    "average_amt = []\n",
    "greatest_increase = [\"\",0]\n",
    "greatest_decrease = [\"\",99999999999999]\n",
    "total_amt = 0"
   ]
  },
  {
   "cell_type": "code",
   "execution_count": 282,
   "id": "af69ab5f-e310-4a2d-8e59-9235c581acee",
   "metadata": {},
   "outputs": [],
   "source": [
    "#Open csv file\n",
    "with open(file_to_load) as revenue_data:\n",
    "    \n",
    "#Convert into a list of dictionaries   \n",
    "    reader = csv.reader(revenue_data)\n",
    "    \n",
    "#Read the header row  \n",
    "    header = next(reader)\n",
    "    \n",
    "#Extract the first row \n",
    "    first_row = next(reader)\n",
    "    \n",
    "#Set the number of months  \n",
    "    total_months = total_months + 1\n",
    "    \n",
    "#Set the total amount \n",
    "    total_amt = total_amt + int(first_row[1])\n",
    "\n",
    "#Set the previous amount \n",
    "    prev_amt = int(first_row[1])\n",
    "    \n",
    "#Read each row of data affter the header\n",
    "    for row in reader:\n",
    "        \n",
    "#Calculate the total amount, count months, average_amount and amount change \n",
    "#These values will be use to calculate the total average and the logic to determine greatest values\n",
    "        total_months = total_months + 1\n",
    "        total_amt = total_amt + int(first_row[1])\n",
    "        amt_change = int(row[1]) - prev_amt\n",
    "        prev_amt = int(row[1])\n",
    "        average_amt = average_amt + [amt_change]\n",
    "        net_amt_change = net_amt_change + [row[0]]\n",
    "       \n",
    "#Calculate the greatest increase\n",
    "        if amt_change > prev_amt:\n",
    "            greatest_increase[0] = row[0]\n",
    "            greatest_increase[1] = amt_change\n",
    "            \n",
    "            \n",
    " #Calculate the greatest decrease  \n",
    "        if amt_change < prev_amt:\n",
    "            greatest_decrease[0] = row[0]\n",
    "            greatest_decrease[1] = amt_change\n",
    "            "
   ]
  },
  {
   "cell_type": "code",
   "execution_count": null,
   "id": "3ef4b02a-f645-4d6b-871e-10cf06fb6d85",
   "metadata": {},
   "outputs": [],
   "source": [
    " \n",
    "           \n"
   ]
  },
  {
   "cell_type": "code",
   "execution_count": 283,
   "id": "b0c54870-f206-46ef-b01a-4ffd13c54b36",
   "metadata": {},
   "outputs": [],
   "source": [
    "#Calculate the total average\n",
    "total_avg = round(sum(average_amt) / len(average_amt),2)"
   ]
  },
  {
   "cell_type": "code",
   "execution_count": 287,
   "id": "89929580-3535-4a8b-8632-d92adea0cac8",
   "metadata": {},
   "outputs": [],
   "source": [
    "#Output the result to a text file\n",
    "with open(file_to_output, \"w\") as txt_file:\n",
    "    txt_file.write(f\"PyBank Profit and Losses Analysis.\\n\")\n",
    "    txt_file.write(f\"----------------------------\\n\")\n",
    "    txt_file.write(f\"Total Months: {total_months}\\n\")\n",
    "    txt_file.write(f\"Total: ${total_amt}\\n\")\n",
    "    txt_file.write(f\"Average  Change: ${total_avg}\\n\")\n",
    "    txt_file.write(f\"Greatest Increase in Profits: {greatest_increase[0]} (${greatest_increase[1]})\\n\")\n",
    "    txt_file.write(f\"Greatest Decrease in Profits: {greatest_decrease[0]} (${greatest_decrease[1]})\\n\")"
   ]
  },
  {
   "cell_type": "code",
   "execution_count": 288,
   "id": "56afa2bc-15d7-4af3-9e16-657b691b4dd9",
   "metadata": {},
   "outputs": [
    {
     "name": "stdout",
     "output_type": "stream",
     "text": [
      "PyBank Profit and Losses Analysis.\n",
      "\n",
      "----------------------------\n",
      "\n",
      "Total Months: 86\n",
      "\n",
      "Total: $74638024\n",
      "\n",
      "Average  Change: $-2315.12\n",
      "\n",
      "Greatest Increase in Profits: Aug-2016  ($1733696)\n",
      "\n",
      "Greatest Decrease in Profits: Feb-2017 ($532869) \n",
      "\n"
     ]
    }
   ],
   "source": [
    "#Print the analysis\n",
    "print(f\"PyBank Profit and Losses Analysis.\\n\")\n",
    "print(f\"----------------------------\\n\")\n",
    "print(f\"Total Months: {total_months}\\n\")\n",
    "print(f\"Total: ${total_amt}\\n\")\n",
    "print(f\"Average  Change: ${total_avg}\\n\")\n",
    "print(f\"Greatest Increase in Profits: {greatest_increase[0]}  (${greatest_increase[1]})\\n\")\n",
    "print(f\"Greatest Decrease in Profits: {greatest_decrease[0]} (${greatest_decrease[1]}) \\n\")"
   ]
  },
  {
   "cell_type": "code",
   "execution_count": 286,
   "id": "54edf35c-8c4e-40ee-91e0-3d9506cec295",
   "metadata": {},
   "outputs": [],
   "source": []
  },
  {
   "cell_type": "code",
   "execution_count": null,
   "id": "1b5a935b-8a5f-462f-828e-73b2d2cbee2e",
   "metadata": {},
   "outputs": [],
   "source": []
  }
 ],
 "metadata": {
  "kernelspec": {
   "display_name": "Python 3 (ipykernel)",
   "language": "python",
   "name": "python3"
  },
  "language_info": {
   "codemirror_mode": {
    "name": "ipython",
    "version": 3
   },
   "file_extension": ".py",
   "mimetype": "text/x-python",
   "name": "python",
   "nbconvert_exporter": "python",
   "pygments_lexer": "ipython3",
   "version": "3.9.6"
  }
 },
 "nbformat": 4,
 "nbformat_minor": 5
}
