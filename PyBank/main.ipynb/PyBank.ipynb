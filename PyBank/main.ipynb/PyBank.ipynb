{
 "cells": [
  {
   "cell_type": "code",
   "execution_count": 2,
   "id": "21e0d9e0-40d3-4d6b-a021-150709c8ecb5",
   "metadata": {},
   "outputs": [
    {
     "data": {
      "text/plain": [
       "'PyBank Profit and Losses Analysis.'"
      ]
     },
     "execution_count": 2,
     "metadata": {},
     "output_type": "execute_result"
    }
   ],
   "source": [
    "\"\"\"PyBank Profit and Losses Analysis.\"\"\" "
   ]
  },
  {
   "cell_type": "code",
   "execution_count": 3,
   "id": "8fbe6941-6a7d-4476-ad36-6d27c7d80f67",
   "metadata": {},
   "outputs": [],
   "source": [
    "import csv"
   ]
  },
  {
   "cell_type": "code",
   "execution_count": 4,
   "id": "6a4367da-7f2e-4a90-9271-5326018d0983",
   "metadata": {},
   "outputs": [],
   "source": [
    "from pathlib import Path"
   ]
  },
  {
   "cell_type": "code",
   "execution_count": 5,
   "id": "89b1ff3f-5032-43ee-8894-cfdc15105972",
   "metadata": {},
   "outputs": [],
   "source": [
    "file_to_load = Path(\"budget_data.csv\")\n",
    "file_to_output = Path(\"PyBank_profit_and_losses_analysis.txt\")\n"
   ]
  },
  {
   "cell_type": "code",
   "execution_count": 6,
   "id": "242f3d0f-3ad1-4664-a184-0943abd12300",
   "metadata": {},
   "outputs": [],
   "source": [
    "total_months = 0\n",
    "net_amt_change = []\n",
    "average_amt = []\n",
    "greatest_increase = [\"\", 0]\n",
    "greatest_decrease = [\"\", 999999999999]\n",
    "total_amt = 0"
   ]
  },
  {
   "cell_type": "code",
   "execution_count": 7,
   "id": "af69ab5f-e310-4a2d-8e59-9235c581acee",
   "metadata": {},
   "outputs": [],
   "source": [
    "with open(file_to_load) as revenue_data:\n",
    "    reader = csv.reader(revenue_data)\n",
    "    header = next(reader)\n",
    "    first_row = next(reader)\n",
    "    total_months = total_months + 1\n",
    "    total_amt = total_amt + int(first_row[1])\n",
    "    prev_amt = int(first_row[1])\n",
    "    for row in reader:\n",
    "        total_months = total_months + 1\n",
    "        total_amt = total_amt + int(first_row[1])\n",
    "        amt_change = int(row[1]) - prev_amt\n",
    "        prev_amt = int(row[1])\n",
    "        average_amt = average_amt + [amt_change]\n",
    "        net_amt_change = net_amt_change + [row[0]]\n"
   ]
  },
  {
   "cell_type": "code",
   "execution_count": 8,
   "id": "3ef4b02a-f645-4d6b-871e-10cf06fb6d85",
   "metadata": {},
   "outputs": [],
   "source": [
    "    if amt_change > greatest_increase[1]:\n",
    "            greatest_increase[0] = row[0]\n",
    "            greatest_increase[1] = amt_change\n",
    "            \n",
    "    if amt_change < greatest_decrease[1]:\n",
    "            greatest_decrease[0] = row[0]\n",
    "            greatest_decrease[1] = amt_change\n"
   ]
  },
  {
   "cell_type": "code",
   "execution_count": 9,
   "id": "b0c54870-f206-46ef-b01a-4ffd13c54b36",
   "metadata": {},
   "outputs": [],
   "source": [
    "total_avg = round(sum(average_amt) / len(average_amt),2)"
   ]
  },
  {
   "cell_type": "code",
   "execution_count": 10,
   "id": "5f069269-b493-4c05-81f2-0feb996e0095",
   "metadata": {},
   "outputs": [],
   "source": [
    "with open(file_to_output, \"w\") as txt_file:\n",
    "    txt_file.write(f\"PyBank Profit and Losses Analysis.\\n\")\n",
    "    txt_file.write(f\"----------------------------\\n\")\n",
    "    txt_file.write(f\"Total Months: {total_months}\\n\")\n",
    "    txt_file.write(f\"Total: ${total_amt}\\n\")\n",
    "    txt_file.write(f\"Average  Change: ${total_avg}\\n\")\n",
    "    txt_file.write(f\"Greatest Increase in Profits: {greatest_increase[0]} (${greatest_increase[1]})\\n\")\n",
    "    txt_file.write(f\"Greatest Decrease in Profits: {greatest_decrease[0]} (${greatest_decrease[1]})\\n\")\n"
   ]
  }
 ],
 "metadata": {
  "kernelspec": {
   "display_name": "Python 3 (ipykernel)",
   "language": "python",
   "name": "python3"
  },
  "language_info": {
   "codemirror_mode": {
    "name": "ipython",
    "version": 3
   },
   "file_extension": ".py",
   "mimetype": "text/x-python",
   "name": "python",
   "nbconvert_exporter": "python",
   "pygments_lexer": "ipython3",
   "version": "3.9.6"
  }
 },
 "nbformat": 4,
 "nbformat_minor": 5
}
