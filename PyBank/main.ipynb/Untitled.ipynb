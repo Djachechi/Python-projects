{
 "cells": [
  {
   "cell_type": "code",
   "execution_count": 3,
   "id": "83de3abd-4327-4abb-93d6-0736054c8afd",
   "metadata": {},
   "outputs": [],
   "source": [
    "File_object = open(r\"PyBank.ipynb\",\"w\")"
   ]
  },
  {
   "cell_type": "code",
   "execution_count": null,
   "id": "15c246b4-3797-4c1b-ade9-4c86ef3521a7",
   "metadata": {},
   "outputs": [],
   "source": []
  }
 ],
 "metadata": {
  "kernelspec": {
   "display_name": "Python 3 (ipykernel)",
   "language": "python",
   "name": "python3"
  },
  "language_info": {
   "codemirror_mode": {
    "name": "ipython",
    "version": 3
   },
   "file_extension": ".py",
   "mimetype": "text/x-python",
   "name": "python",
   "nbconvert_exporter": "python",
   "pygments_lexer": "ipython3",
   "version": "3.9.6"
  }
 },
 "nbformat": 4,
 "nbformat_minor": 5
}
